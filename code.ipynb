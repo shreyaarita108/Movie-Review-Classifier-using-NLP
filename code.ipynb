{
  "nbformat": 4,
  "nbformat_minor": 0,
  "metadata": {
    "colab": {
      "provenance": [],
      "gpuType": "T4"
    },
    "kernelspec": {
      "name": "python3",
      "display_name": "Python 3"
    },
    "language_info": {
      "name": "python"
    },
    "accelerator": "GPU"
  },
  "cells": [
    {
      "cell_type": "code",
      "source": [
        "import keras\n",
        "import tensorflow as tf\n",
        "tf.keras.backend.clear_session()\n",
        "from keras.models import Sequential\n",
        "from keras import layers\n",
        "#from keras.preprocessing.sequence import pad_sequences\n",
        "from keras.utils import pad_sequences\n",
        "from keras.preprocessing.text import Tokenizer\n",
        "from keras.layers import Embedding, LSTM, Bidirectional, Dense"
      ],
      "metadata": {
        "id": "TdyQhfWVf3y3"
      },
      "execution_count": 1,
      "outputs": []
    },
    {
      "cell_type": "code",
      "source": [
        "from sklearn.feature_extraction.text import CountVectorizer\n",
        "from sklearn.model_selection import train_test_split\n",
        "import pandas as pd\n",
        "import numpy as np\n",
        "import matplotlib.pyplot as plt\n",
        "from sklearn.metrics import accuracy_score, precision_score, recall_score, f1_score"
      ],
      "metadata": {
        "id": "JW02m6K4gSxi"
      },
      "execution_count": 2,
      "outputs": []
    },
    {
      "cell_type": "code",
      "source": [
        "from google.colab import drive\n",
        "drive.mount('/content/drive')"
      ],
      "metadata": {
        "id": "tLs76fqRgpuy",
        "colab": {
          "base_uri": "https://localhost:8080/"
        },
        "outputId": "c5f3d48c-6a24-482b-9e16-4b4bfd77a4fa"
      },
      "execution_count": 4,
      "outputs": [
        {
          "output_type": "stream",
          "name": "stdout",
          "text": [
            "Drive already mounted at /content/drive; to attempt to forcibly remount, call drive.mount(\"/content/drive\", force_remount=True).\n"
          ]
        }
      ]
    },
    {
      "cell_type": "code",
      "source": [
        "file_path = input(\"Enter the path to the CSV file: \")\n",
        "dataset = pd.read_csv(file_path, header=0, encoding='Latin', engine='python')\n",
        "#dataset= pd.read_csv(\"/content/drive/MyDrive/IMDB Dataset.csv\",header = 0, encoding = 'Latin', engine = 'python')\n",
        "dataset.head()"
      ],
      "metadata": {
        "colab": {
          "base_uri": "https://localhost:8080/",
          "height": 224
        },
        "id": "S4SvQmcMieRc",
        "outputId": "a796416a-85d5-4441-f8db-27e5492b495b"
      },
      "execution_count": 5,
      "outputs": [
        {
          "name": "stdout",
          "output_type": "stream",
          "text": [
            "Enter the path to the CSV file: /content/drive/MyDrive/IMDB Dataset.csv\n"
          ]
        },
        {
          "output_type": "execute_result",
          "data": {
            "text/plain": [
              "                                              review sentiment\n",
              "0  One of the other reviewers has mentioned that ...  positive\n",
              "1  A wonderful little production. <br /><br />The...  positive\n",
              "2  I thought this was a wonderful way to spend ti...  positive\n",
              "3  Basically there's a family where a little boy ...  negative\n",
              "4  Petter Mattei's \"Love in the Time of Money\" is...  positive"
            ],
            "text/html": [
              "\n",
              "  <div id=\"df-f635a171-7cdb-48fc-8800-13c042b7a794\" class=\"colab-df-container\">\n",
              "    <div>\n",
              "<style scoped>\n",
              "    .dataframe tbody tr th:only-of-type {\n",
              "        vertical-align: middle;\n",
              "    }\n",
              "\n",
              "    .dataframe tbody tr th {\n",
              "        vertical-align: top;\n",
              "    }\n",
              "\n",
              "    .dataframe thead th {\n",
              "        text-align: right;\n",
              "    }\n",
              "</style>\n",
              "<table border=\"1\" class=\"dataframe\">\n",
              "  <thead>\n",
              "    <tr style=\"text-align: right;\">\n",
              "      <th></th>\n",
              "      <th>review</th>\n",
              "      <th>sentiment</th>\n",
              "    </tr>\n",
              "  </thead>\n",
              "  <tbody>\n",
              "    <tr>\n",
              "      <th>0</th>\n",
              "      <td>One of the other reviewers has mentioned that ...</td>\n",
              "      <td>positive</td>\n",
              "    </tr>\n",
              "    <tr>\n",
              "      <th>1</th>\n",
              "      <td>A wonderful little production. &lt;br /&gt;&lt;br /&gt;The...</td>\n",
              "      <td>positive</td>\n",
              "    </tr>\n",
              "    <tr>\n",
              "      <th>2</th>\n",
              "      <td>I thought this was a wonderful way to spend ti...</td>\n",
              "      <td>positive</td>\n",
              "    </tr>\n",
              "    <tr>\n",
              "      <th>3</th>\n",
              "      <td>Basically there's a family where a little boy ...</td>\n",
              "      <td>negative</td>\n",
              "    </tr>\n",
              "    <tr>\n",
              "      <th>4</th>\n",
              "      <td>Petter Mattei's \"Love in the Time of Money\" is...</td>\n",
              "      <td>positive</td>\n",
              "    </tr>\n",
              "  </tbody>\n",
              "</table>\n",
              "</div>\n",
              "    <div class=\"colab-df-buttons\">\n",
              "\n",
              "  <div class=\"colab-df-container\">\n",
              "    <button class=\"colab-df-convert\" onclick=\"convertToInteractive('df-f635a171-7cdb-48fc-8800-13c042b7a794')\"\n",
              "            title=\"Convert this dataframe to an interactive table.\"\n",
              "            style=\"display:none;\">\n",
              "\n",
              "  <svg xmlns=\"http://www.w3.org/2000/svg\" height=\"24px\" viewBox=\"0 -960 960 960\">\n",
              "    <path d=\"M120-120v-720h720v720H120Zm60-500h600v-160H180v160Zm220 220h160v-160H400v160Zm0 220h160v-160H400v160ZM180-400h160v-160H180v160Zm440 0h160v-160H620v160ZM180-180h160v-160H180v160Zm440 0h160v-160H620v160Z\"/>\n",
              "  </svg>\n",
              "    </button>\n",
              "\n",
              "  <style>\n",
              "    .colab-df-container {\n",
              "      display:flex;\n",
              "      gap: 12px;\n",
              "    }\n",
              "\n",
              "    .colab-df-convert {\n",
              "      background-color: #E8F0FE;\n",
              "      border: none;\n",
              "      border-radius: 50%;\n",
              "      cursor: pointer;\n",
              "      display: none;\n",
              "      fill: #1967D2;\n",
              "      height: 32px;\n",
              "      padding: 0 0 0 0;\n",
              "      width: 32px;\n",
              "    }\n",
              "\n",
              "    .colab-df-convert:hover {\n",
              "      background-color: #E2EBFA;\n",
              "      box-shadow: 0px 1px 2px rgba(60, 64, 67, 0.3), 0px 1px 3px 1px rgba(60, 64, 67, 0.15);\n",
              "      fill: #174EA6;\n",
              "    }\n",
              "\n",
              "    .colab-df-buttons div {\n",
              "      margin-bottom: 4px;\n",
              "    }\n",
              "\n",
              "    [theme=dark] .colab-df-convert {\n",
              "      background-color: #3B4455;\n",
              "      fill: #D2E3FC;\n",
              "    }\n",
              "\n",
              "    [theme=dark] .colab-df-convert:hover {\n",
              "      background-color: #434B5C;\n",
              "      box-shadow: 0px 1px 3px 1px rgba(0, 0, 0, 0.15);\n",
              "      filter: drop-shadow(0px 1px 2px rgba(0, 0, 0, 0.3));\n",
              "      fill: #FFFFFF;\n",
              "    }\n",
              "  </style>\n",
              "\n",
              "    <script>\n",
              "      const buttonEl =\n",
              "        document.querySelector('#df-f635a171-7cdb-48fc-8800-13c042b7a794 button.colab-df-convert');\n",
              "      buttonEl.style.display =\n",
              "        google.colab.kernel.accessAllowed ? 'block' : 'none';\n",
              "\n",
              "      async function convertToInteractive(key) {\n",
              "        const element = document.querySelector('#df-f635a171-7cdb-48fc-8800-13c042b7a794');\n",
              "        const dataTable =\n",
              "          await google.colab.kernel.invokeFunction('convertToInteractive',\n",
              "                                                    [key], {});\n",
              "        if (!dataTable) return;\n",
              "\n",
              "        const docLinkHtml = 'Like what you see? Visit the ' +\n",
              "          '<a target=\"_blank\" href=https://colab.research.google.com/notebooks/data_table.ipynb>data table notebook</a>'\n",
              "          + ' to learn more about interactive tables.';\n",
              "        element.innerHTML = '';\n",
              "        dataTable['output_type'] = 'display_data';\n",
              "        await google.colab.output.renderOutput(dataTable, element);\n",
              "        const docLink = document.createElement('div');\n",
              "        docLink.innerHTML = docLinkHtml;\n",
              "        element.appendChild(docLink);\n",
              "      }\n",
              "    </script>\n",
              "  </div>\n",
              "\n",
              "\n",
              "<div id=\"df-e94cef05-07ad-4e2f-a7d8-d221f81d98e8\">\n",
              "  <button class=\"colab-df-quickchart\" onclick=\"quickchart('df-e94cef05-07ad-4e2f-a7d8-d221f81d98e8')\"\n",
              "            title=\"Suggest charts\"\n",
              "            style=\"display:none;\">\n",
              "\n",
              "<svg xmlns=\"http://www.w3.org/2000/svg\" height=\"24px\"viewBox=\"0 0 24 24\"\n",
              "     width=\"24px\">\n",
              "    <g>\n",
              "        <path d=\"M19 3H5c-1.1 0-2 .9-2 2v14c0 1.1.9 2 2 2h14c1.1 0 2-.9 2-2V5c0-1.1-.9-2-2-2zM9 17H7v-7h2v7zm4 0h-2V7h2v10zm4 0h-2v-4h2v4z\"/>\n",
              "    </g>\n",
              "</svg>\n",
              "  </button>\n",
              "\n",
              "<style>\n",
              "  .colab-df-quickchart {\n",
              "      --bg-color: #E8F0FE;\n",
              "      --fill-color: #1967D2;\n",
              "      --hover-bg-color: #E2EBFA;\n",
              "      --hover-fill-color: #174EA6;\n",
              "      --disabled-fill-color: #AAA;\n",
              "      --disabled-bg-color: #DDD;\n",
              "  }\n",
              "\n",
              "  [theme=dark] .colab-df-quickchart {\n",
              "      --bg-color: #3B4455;\n",
              "      --fill-color: #D2E3FC;\n",
              "      --hover-bg-color: #434B5C;\n",
              "      --hover-fill-color: #FFFFFF;\n",
              "      --disabled-bg-color: #3B4455;\n",
              "      --disabled-fill-color: #666;\n",
              "  }\n",
              "\n",
              "  .colab-df-quickchart {\n",
              "    background-color: var(--bg-color);\n",
              "    border: none;\n",
              "    border-radius: 50%;\n",
              "    cursor: pointer;\n",
              "    display: none;\n",
              "    fill: var(--fill-color);\n",
              "    height: 32px;\n",
              "    padding: 0;\n",
              "    width: 32px;\n",
              "  }\n",
              "\n",
              "  .colab-df-quickchart:hover {\n",
              "    background-color: var(--hover-bg-color);\n",
              "    box-shadow: 0 1px 2px rgba(60, 64, 67, 0.3), 0 1px 3px 1px rgba(60, 64, 67, 0.15);\n",
              "    fill: var(--button-hover-fill-color);\n",
              "  }\n",
              "\n",
              "  .colab-df-quickchart-complete:disabled,\n",
              "  .colab-df-quickchart-complete:disabled:hover {\n",
              "    background-color: var(--disabled-bg-color);\n",
              "    fill: var(--disabled-fill-color);\n",
              "    box-shadow: none;\n",
              "  }\n",
              "\n",
              "  .colab-df-spinner {\n",
              "    border: 2px solid var(--fill-color);\n",
              "    border-color: transparent;\n",
              "    border-bottom-color: var(--fill-color);\n",
              "    animation:\n",
              "      spin 1s steps(1) infinite;\n",
              "  }\n",
              "\n",
              "  @keyframes spin {\n",
              "    0% {\n",
              "      border-color: transparent;\n",
              "      border-bottom-color: var(--fill-color);\n",
              "      border-left-color: var(--fill-color);\n",
              "    }\n",
              "    20% {\n",
              "      border-color: transparent;\n",
              "      border-left-color: var(--fill-color);\n",
              "      border-top-color: var(--fill-color);\n",
              "    }\n",
              "    30% {\n",
              "      border-color: transparent;\n",
              "      border-left-color: var(--fill-color);\n",
              "      border-top-color: var(--fill-color);\n",
              "      border-right-color: var(--fill-color);\n",
              "    }\n",
              "    40% {\n",
              "      border-color: transparent;\n",
              "      border-right-color: var(--fill-color);\n",
              "      border-top-color: var(--fill-color);\n",
              "    }\n",
              "    60% {\n",
              "      border-color: transparent;\n",
              "      border-right-color: var(--fill-color);\n",
              "    }\n",
              "    80% {\n",
              "      border-color: transparent;\n",
              "      border-right-color: var(--fill-color);\n",
              "      border-bottom-color: var(--fill-color);\n",
              "    }\n",
              "    90% {\n",
              "      border-color: transparent;\n",
              "      border-bottom-color: var(--fill-color);\n",
              "    }\n",
              "  }\n",
              "</style>\n",
              "\n",
              "  <script>\n",
              "    async function quickchart(key) {\n",
              "      const quickchartButtonEl =\n",
              "        document.querySelector('#' + key + ' button');\n",
              "      quickchartButtonEl.disabled = true;  // To prevent multiple clicks.\n",
              "      quickchartButtonEl.classList.add('colab-df-spinner');\n",
              "      try {\n",
              "        const charts = await google.colab.kernel.invokeFunction(\n",
              "            'suggestCharts', [key], {});\n",
              "      } catch (error) {\n",
              "        console.error('Error during call to suggestCharts:', error);\n",
              "      }\n",
              "      quickchartButtonEl.classList.remove('colab-df-spinner');\n",
              "      quickchartButtonEl.classList.add('colab-df-quickchart-complete');\n",
              "    }\n",
              "    (() => {\n",
              "      let quickchartButtonEl =\n",
              "        document.querySelector('#df-e94cef05-07ad-4e2f-a7d8-d221f81d98e8 button');\n",
              "      quickchartButtonEl.style.display =\n",
              "        google.colab.kernel.accessAllowed ? 'block' : 'none';\n",
              "    })();\n",
              "  </script>\n",
              "</div>\n",
              "\n",
              "    </div>\n",
              "  </div>\n"
            ]
          },
          "metadata": {},
          "execution_count": 5
        }
      ]
    },
    {
      "cell_type": "code",
      "source": [
        "dataset['sentiment'] = dataset['sentiment'].replace('positive', 1)\n",
        "dataset['sentiment'] = dataset['sentiment'].replace('negative', 0)"
      ],
      "metadata": {
        "id": "-_coHpHI6QLe"
      },
      "execution_count": 7,
      "outputs": []
    },
    {
      "cell_type": "code",
      "source": [
        "glovepathinput = input(\"Enter the path to the gloVe file: \")\n",
        "glove_path = glovepathinput"
      ],
      "metadata": {
        "id": "pqZD0uqmkMHF",
        "colab": {
          "base_uri": "https://localhost:8080/"
        },
        "outputId": "6500ada0-b057-4182-e7cc-6e31e4c79389"
      },
      "execution_count": 8,
      "outputs": [
        {
          "name": "stdout",
          "output_type": "stream",
          "text": [
            "Enter the path to the gloVe file: /content/drive/MyDrive/glove.6B.100d.txt\n"
          ]
        }
      ]
    },
    {
      "cell_type": "code",
      "source": [
        "def create_embedding_matrix(filepath, word_index, embedding_dim):\n",
        "    vocab_size = len(word_index) + 1\n",
        "    embedding_matrix = np.zeros((vocab_size, embedding_dim))\n",
        "\n",
        "    with open(filepath) as f:\n",
        "        for line in f:\n",
        "            word, *vector = line.split()\n",
        "            if word in word_index:\n",
        "                idx = word_index[word]\n",
        "                embedding_matrix[idx] = np.array(vector, dtype=np.float32)[:embedding_dim]\n",
        "\n",
        "    return embedding_matrix"
      ],
      "metadata": {
        "id": "_nEwXAXfnLdK"
      },
      "execution_count": 9,
      "outputs": []
    },
    {
      "cell_type": "code",
      "source": [
        "x = dataset['review']\n",
        "y = dataset['sentiment']\n",
        "x_train, x_test, y_train, y_test = train_test_split(x, y, test_size=0.2, random_state=1000)"
      ],
      "metadata": {
        "id": "afJHn7w6lSki"
      },
      "execution_count": 10,
      "outputs": []
    },
    {
      "cell_type": "code",
      "source": [
        "tokenizer = Tokenizer()\n",
        "tokenizer.fit_on_texts(x_train)\n",
        "X_train_seq = tokenizer.texts_to_sequences(x_train)\n",
        "X_test_seq = tokenizer.texts_to_sequences(x_test)\n",
        "vocab_size = len(tokenizer.word_index) + 1  # Adding 1 because of reserved 0 index\n",
        "\n",
        "print(x_train[2])\n",
        "print(X_train_seq[2])"
      ],
      "metadata": {
        "id": "2Q6YXbljpeoD",
        "colab": {
          "base_uri": "https://localhost:8080/"
        },
        "outputId": "8da8799d-9218-4944-9052-8a17e36c1eca"
      },
      "execution_count": 11,
      "outputs": [
        {
          "output_type": "stream",
          "name": "stdout",
          "text": [
            "I thought this was a wonderful way to spend time on a too hot summer weekend, sitting in the air conditioned theater and watching a light-hearted comedy. The plot is simplistic, but the dialogue is witty and the characters are likable (even the well bread suspected serial killer). While some may be disappointed when they realize this is not Match Point 2: Risk Addiction, I thought it was proof that Woody Allen is still fully in control of the style many of us have grown to love.<br /><br />This was the most I'd laughed at one of Woody's comedies in years (dare I say a decade?). While I've never been impressed with Scarlet Johanson, in this she managed to tone down her \"sexy\" image and jumped right into a average, but spirited young woman.<br /><br />This may not be the crown jewel of his career, but it was wittier than \"Devil Wears Prada\" and more interesting than \"Superman\" a great comedy to go see with friends.\n",
            "[5, 94, 3, 19, 34839, 1, 18771, 2, 1, 144, 326, 1671, 2515, 59, 6982, 57, 3, 79, 19, 2745, 441, 5033, 6, 21, 12, 19, 2745, 7, 7, 5, 2069, 1, 785, 4, 3, 49, 128, 82, 2385, 754, 3, 49, 292, 441, 13351, 6, 21, 12, 292, 7, 7, 1, 86, 3732, 2993, 226, 23, 12859, 347, 16, 61, 3, 169, 14636, 4, 244, 51, 652, 24879, 1866, 18, 46, 6, 3, 573, 4, 1260, 85, 22, 462, 119, 60, 283, 102, 1885, 5, 1, 211, 326, 1671, 7, 7, 1621, 51055, 1511, 964, 45, 3, 52, 9140, 210, 133, 2, 42, 1, 116, 319, 6, 5, 25, 8069, 8069, 22711, 1241, 7, 7, 54, 1, 19, 61, 3030, 53, 16, 1, 22712, 1597, 20, 1, 10061, 2, 45, 27, 79, 5778, 704, 30, 1, 8810, 756]\n"
          ]
        }
      ]
    },
    {
      "cell_type": "code",
      "source": [
        "embedding_dim = 100\n",
        "embedding_matrix = create_embedding_matrix(glove_path,tokenizer.word_index, embedding_dim)"
      ],
      "metadata": {
        "id": "d9m5HPlhtX25"
      },
      "execution_count": 12,
      "outputs": []
    },
    {
      "cell_type": "code",
      "source": [
        "nonzero_elements = np.count_nonzero(np.count_nonzero(embedding_matrix, axis=1))\n",
        "nonzero_elements / vocab_size"
      ],
      "metadata": {
        "colab": {
          "base_uri": "https://localhost:8080/"
        },
        "id": "YOYVjNcmvz8I",
        "outputId": "7154627a-08e1-43c1-c280-75c78586efc6"
      },
      "execution_count": 13,
      "outputs": [
        {
          "output_type": "execute_result",
          "data": {
            "text/plain": [
              "0.6250912002847229"
            ]
          },
          "metadata": {},
          "execution_count": 13
        }
      ]
    },
    {
      "cell_type": "code",
      "source": [
        "from keras import backend as K\n",
        "def precision_m(y_true, y_pred):\n",
        "    true_positives = K.sum(K.round(K.clip(y_true * y_pred, 0, 1)))\n",
        "    predicted_positives = K.sum(K.round(K.clip(y_pred, 0, 1)))\n",
        "    precision = K.clip(true_positives / (predicted_positives + K.epsilon()), 0, 1)\n",
        "    return precision\n",
        "\n",
        "def recall_m(y_true, y_pred):\n",
        "    true_positives = K.sum(K.round(K.clip(y_true * y_pred, 0, 1)))\n",
        "    possible_positives = K.sum(K.round(K.clip(y_true, 0, 1)))\n",
        "    recall = K.clip(true_positives / (possible_positives + K.epsilon()), 0, 1)\n",
        "    return recall\n",
        "\n",
        "def f1score_m(y_true, y_pred):\n",
        "    true_positives = K.sum(K.round(K.clip(y_true * y_pred, 0, 1)))\n",
        "    possible_positives = K.sum(K.round(K.clip(y_true, 0, 1)))\n",
        "    recall = K.clip(true_positives / (possible_positives + K.epsilon()), 0, 1)\n",
        "\n",
        "    predicted_positives = K.sum(K.round(K.clip(y_pred, 0, 1)))\n",
        "    precision = K.clip(true_positives / (predicted_positives + K.epsilon()), 0, 1)\n",
        "\n",
        "    if precision + recall == 0:\n",
        "        f1_score = K.constant(0)\n",
        "    else:\n",
        "        f1_score = K.clip(2 * (precision * recall) / (precision + recall), 0, 1)\n",
        "\n",
        "    return f1_score\n"
      ],
      "metadata": {
        "id": "bfnf49MRjzuN"
      },
      "execution_count": 14,
      "outputs": []
    },
    {
      "cell_type": "code",
      "source": [
        "batch_sizes_to_try = [16, 32, 64, 128, 256]\n",
        "max_length = 100\n",
        "X_train_pad = pad_sequences(X_train_seq, maxlen=max_length)\n",
        "X_test_pad = pad_sequences(X_test_seq, maxlen=max_length)\n",
        "for batch_size in batch_sizes_to_try:\n",
        "    print(f\"\\nTraining with batch size: {batch_size}\")\n",
        "\n",
        "\n",
        "    shallow_model = Sequential()\n",
        "    shallow_model.add(Embedding(input_dim=len(tokenizer.word_index) + 1, output_dim=100, input_length=max_length, weights=[embedding_matrix], trainable=False))\n",
        "    shallow_model.add(Dense(10, activation='relu'))\n",
        "    shallow_model.add(Dense(1, activation='sigmoid'))\n",
        "    shallow_model.compile(optimizer='adam', loss='binary_crossentropy', metrics=['accuracy'])\n",
        "\n",
        "    # Train\n",
        "    history = shallow_model.fit(X_train_pad, y_train, epochs=20, batch_size=batch_size, validation_split=0.1, verbose=0)\n",
        "\n",
        "    # Evaluate\n",
        "    loss, accuracy = shallow_model.evaluate(X_test_pad, y_test)\n",
        "    print(f'Test Accuracy (Batch Size {batch_size}): {accuracy * 100:.2f}%')"
      ],
      "metadata": {
        "colab": {
          "base_uri": "https://localhost:8080/"
        },
        "id": "o_dkVh8NJgQx",
        "outputId": "059d2dba-70b0-4cbb-b74e-38ad2e21a65e"
      },
      "execution_count": 15,
      "outputs": [
        {
          "output_type": "stream",
          "name": "stdout",
          "text": [
            "\n",
            "Training with batch size: 16\n",
            "313/313 [==============================] - 1s 3ms/step - loss: 0.6828 - accuracy: 0.5456\n",
            "Test Accuracy (Batch Size 16): 54.56%\n",
            "\n",
            "Training with batch size: 32\n",
            "313/313 [==============================] - 1s 3ms/step - loss: 0.6827 - accuracy: 0.5470\n",
            "Test Accuracy (Batch Size 32): 54.70%\n",
            "\n",
            "Training with batch size: 64\n",
            "313/313 [==============================] - 1s 3ms/step - loss: 0.6834 - accuracy: 0.5439\n",
            "Test Accuracy (Batch Size 64): 54.39%\n",
            "\n",
            "Training with batch size: 128\n",
            "313/313 [==============================] - 1s 3ms/step - loss: 0.6832 - accuracy: 0.5465\n",
            "Test Accuracy (Batch Size 128): 54.65%\n",
            "\n",
            "Training with batch size: 256\n",
            "313/313 [==============================] - 1s 3ms/step - loss: 0.6841 - accuracy: 0.5427\n",
            "Test Accuracy (Batch Size 256): 54.27%\n"
          ]
        }
      ]
    },
    {
      "cell_type": "code",
      "source": [
        "model = Sequential()\n",
        "maxlen = 100\n",
        "model.add(layers.Embedding(vocab_size, embedding_dim, weights=[embedding_matrix], input_length=maxlen,  trainable=True))\n",
        "model.add(layers.Dense(10, activation='relu'))\n",
        "model.add(layers.Dense(1, activation='sigmoid'))\n",
        "model.compile(optimizer='adam',loss='binary_crossentropy',metrics=['accuracy',precision_m,recall_m,f1score_m])\n",
        "model.summary()"
      ],
      "metadata": {
        "id": "lJnH_60V0SlW",
        "colab": {
          "base_uri": "https://localhost:8080/"
        },
        "outputId": "a4b44d55-c422-4cd7-efe6-93942e9aefa9"
      },
      "execution_count": 16,
      "outputs": [
        {
          "output_type": "stream",
          "name": "stdout",
          "text": [
            "Model: \"sequential_5\"\n",
            "_________________________________________________________________\n",
            " Layer (type)                Output Shape              Param #   \n",
            "=================================================================\n",
            " embedding_5 (Embedding)     (None, 100, 100)          11239000  \n",
            "                                                                 \n",
            " dense_10 (Dense)            (None, 100, 10)           1010      \n",
            "                                                                 \n",
            " dense_11 (Dense)            (None, 100, 1)            11        \n",
            "                                                                 \n",
            "=================================================================\n",
            "Total params: 11240021 (42.88 MB)\n",
            "Trainable params: 11240021 (42.88 MB)\n",
            "Non-trainable params: 0 (0.00 Byte)\n",
            "_________________________________________________________________\n"
          ]
        }
      ]
    },
    {
      "cell_type": "code",
      "source": [
        "max_length = 100\n",
        "\n",
        "X_train_pad = pad_sequences(X_train_seq, maxlen=max_length)\n",
        "X_test_pad = pad_sequences(X_test_seq, maxlen=max_length)\n",
        "model.fit(X_train_pad, y_train, epochs=20, batch_size=32, validation_split=0.1)\n"
      ],
      "metadata": {
        "id": "IO4nw7df4b2F",
        "colab": {
          "base_uri": "https://localhost:8080/"
        },
        "outputId": "cb7c1265-101a-41ab-c94d-c58f4bc7f5d0"
      },
      "execution_count": 17,
      "outputs": [
        {
          "output_type": "stream",
          "name": "stdout",
          "text": [
            "Epoch 1/20\n",
            "1125/1125 [==============================] - 45s 39ms/step - loss: 0.6853 - accuracy: 0.5457 - precision_m: 0.5393 - recall_m: 0.9991 - f1score_m: 0.6957 - val_loss: 0.6793 - val_accuracy: 0.5552 - val_precision_m: 0.5491 - val_recall_m: 1.0000 - val_f1score_m: 0.7048\n",
            "Epoch 2/20\n",
            "1125/1125 [==============================] - 12s 11ms/step - loss: 0.6762 - accuracy: 0.5582 - precision_m: 0.5477 - recall_m: 1.0000 - f1score_m: 0.7034 - val_loss: 0.6781 - val_accuracy: 0.5568 - val_precision_m: 0.5486 - val_recall_m: 1.0000 - val_f1score_m: 0.7044\n",
            "Epoch 3/20\n",
            "1125/1125 [==============================] - 9s 8ms/step - loss: 0.6732 - accuracy: 0.5613 - precision_m: 0.5488 - recall_m: 1.0000 - f1score_m: 0.7043 - val_loss: 0.6786 - val_accuracy: 0.5550 - val_precision_m: 0.5437 - val_recall_m: 1.0000 - val_f1score_m: 0.7003\n",
            "Epoch 4/20\n",
            "1125/1125 [==============================] - 9s 8ms/step - loss: 0.6710 - accuracy: 0.5635 - precision_m: 0.5502 - recall_m: 1.0000 - f1score_m: 0.7054 - val_loss: 0.6791 - val_accuracy: 0.5575 - val_precision_m: 0.5475 - val_recall_m: 1.0000 - val_f1score_m: 0.7035\n",
            "Epoch 5/20\n",
            "1125/1125 [==============================] - 9s 8ms/step - loss: 0.6693 - accuracy: 0.5657 - precision_m: 0.5519 - recall_m: 1.0000 - f1score_m: 0.7069 - val_loss: 0.6801 - val_accuracy: 0.5589 - val_precision_m: 0.5514 - val_recall_m: 1.0000 - val_f1score_m: 0.7068\n",
            "Epoch 6/20\n",
            "1125/1125 [==============================] - 7s 6ms/step - loss: 0.6676 - accuracy: 0.5678 - precision_m: 0.5535 - recall_m: 1.0000 - f1score_m: 0.7084 - val_loss: 0.6817 - val_accuracy: 0.5591 - val_precision_m: 0.5513 - val_recall_m: 1.0000 - val_f1score_m: 0.7067\n",
            "Epoch 7/20\n",
            "1125/1125 [==============================] - 9s 8ms/step - loss: 0.6661 - accuracy: 0.5690 - precision_m: 0.5559 - recall_m: 1.0000 - f1score_m: 0.7104 - val_loss: 0.6831 - val_accuracy: 0.5595 - val_precision_m: 0.5518 - val_recall_m: 1.0000 - val_f1score_m: 0.7071\n",
            "Epoch 8/20\n",
            "1125/1125 [==============================] - 7s 7ms/step - loss: 0.6652 - accuracy: 0.5691 - precision_m: 0.5559 - recall_m: 1.0000 - f1score_m: 0.7105 - val_loss: 0.6843 - val_accuracy: 0.5567 - val_precision_m: 0.5448 - val_recall_m: 1.0000 - val_f1score_m: 0.7012\n",
            "Epoch 9/20\n",
            "1125/1125 [==============================] - 8s 7ms/step - loss: 0.6646 - accuracy: 0.5700 - precision_m: 0.5574 - recall_m: 1.0000 - f1score_m: 0.7115 - val_loss: 0.6848 - val_accuracy: 0.5597 - val_precision_m: 0.5519 - val_recall_m: 1.0000 - val_f1score_m: 0.7072\n",
            "Epoch 10/20\n",
            "1125/1125 [==============================] - 9s 8ms/step - loss: 0.6642 - accuracy: 0.5702 - precision_m: 0.5580 - recall_m: 1.0000 - f1score_m: 0.7124 - val_loss: 0.6858 - val_accuracy: 0.5588 - val_precision_m: 0.5485 - val_recall_m: 1.0000 - val_f1score_m: 0.7043\n",
            "Epoch 11/20\n",
            "1125/1125 [==============================] - 7s 6ms/step - loss: 0.6639 - accuracy: 0.5707 - precision_m: 0.5585 - recall_m: 1.0000 - f1score_m: 0.7127 - val_loss: 0.6866 - val_accuracy: 0.5600 - val_precision_m: 0.5532 - val_recall_m: 1.0000 - val_f1score_m: 0.7082\n",
            "Epoch 12/20\n",
            "1125/1125 [==============================] - 8s 7ms/step - loss: 0.6637 - accuracy: 0.5705 - precision_m: 0.5584 - recall_m: 1.0000 - f1score_m: 0.7125 - val_loss: 0.6869 - val_accuracy: 0.5599 - val_precision_m: 0.5525 - val_recall_m: 1.0000 - val_f1score_m: 0.7077\n",
            "Epoch 13/20\n",
            "1125/1125 [==============================] - 8s 7ms/step - loss: 0.6635 - accuracy: 0.5706 - precision_m: 0.5582 - recall_m: 1.0000 - f1score_m: 0.7123 - val_loss: 0.6874 - val_accuracy: 0.5600 - val_precision_m: 0.5532 - val_recall_m: 1.0000 - val_f1score_m: 0.7082\n",
            "Epoch 14/20\n",
            "1125/1125 [==============================] - 8s 7ms/step - loss: 0.6634 - accuracy: 0.5708 - precision_m: 0.5592 - recall_m: 1.0000 - f1score_m: 0.7130 - val_loss: 0.6875 - val_accuracy: 0.5601 - val_precision_m: 0.5528 - val_recall_m: 1.0000 - val_f1score_m: 0.7079\n",
            "Epoch 15/20\n",
            "1125/1125 [==============================] - 9s 8ms/step - loss: 0.6632 - accuracy: 0.5708 - precision_m: 0.5587 - recall_m: 1.0000 - f1score_m: 0.7130 - val_loss: 0.6877 - val_accuracy: 0.5603 - val_precision_m: 0.5536 - val_recall_m: 1.0000 - val_f1score_m: 0.7086\n",
            "Epoch 16/20\n",
            "1125/1125 [==============================] - 8s 7ms/step - loss: 0.6631 - accuracy: 0.5710 - precision_m: 0.5591 - recall_m: 1.0000 - f1score_m: 0.7128 - val_loss: 0.6883 - val_accuracy: 0.5593 - val_precision_m: 0.5502 - val_recall_m: 1.0000 - val_f1score_m: 0.7058\n",
            "Epoch 17/20\n",
            "1125/1125 [==============================] - 7s 6ms/step - loss: 0.6630 - accuracy: 0.5710 - precision_m: 0.5588 - recall_m: 1.0000 - f1score_m: 0.7126 - val_loss: 0.6884 - val_accuracy: 0.5603 - val_precision_m: 0.5531 - val_recall_m: 1.0000 - val_f1score_m: 0.7082\n",
            "Epoch 18/20\n",
            "1125/1125 [==============================] - 8s 7ms/step - loss: 0.6630 - accuracy: 0.5710 - precision_m: 0.5588 - recall_m: 1.0000 - f1score_m: 0.7129 - val_loss: 0.6883 - val_accuracy: 0.5602 - val_precision_m: 0.5526 - val_recall_m: 1.0000 - val_f1score_m: 0.7078\n",
            "Epoch 19/20\n",
            "1125/1125 [==============================] - 9s 8ms/step - loss: 0.6628 - accuracy: 0.5712 - precision_m: 0.5594 - recall_m: 1.0000 - f1score_m: 0.7130 - val_loss: 0.6889 - val_accuracy: 0.5589 - val_precision_m: 0.5493 - val_recall_m: 1.0000 - val_f1score_m: 0.7050\n",
            "Epoch 20/20\n",
            "1125/1125 [==============================] - 7s 7ms/step - loss: 0.6628 - accuracy: 0.5713 - precision_m: 0.5601 - recall_m: 1.0000 - f1score_m: 0.7137 - val_loss: 0.6887 - val_accuracy: 0.5602 - val_precision_m: 0.5529 - val_recall_m: 1.0000 - val_f1score_m: 0.7080\n"
          ]
        },
        {
          "output_type": "execute_result",
          "data": {
            "text/plain": [
              "<keras.src.callbacks.History at 0x7b0a70392350>"
            ]
          },
          "metadata": {},
          "execution_count": 17
        }
      ]
    },
    {
      "cell_type": "code",
      "source": [
        "shallow_evaluation = model.evaluate(X_train_pad, y_train)\n",
        "print(\"Training:\")\n",
        "metric_names = model.metrics_names\n",
        "\n",
        "\n",
        "for metric_name, metric_value in zip(metric_names, shallow_evaluation):\n",
        "    print(f\"{metric_name.capitalize()}: {metric_value}\")\n",
        "\n",
        "shallow_evaluation = model.evaluate(X_test_pad, y_test)\n",
        "print(\"Testing:\")\n",
        "metric_names = model.metrics_names\n",
        "\n",
        "\n",
        "for metric_name, metric_value in zip(metric_names, shallow_evaluation):\n",
        "    print(f\"{metric_name.capitalize()}: {metric_value}\")"
      ],
      "metadata": {
        "id": "udYamnUPB7qF",
        "colab": {
          "base_uri": "https://localhost:8080/"
        },
        "outputId": "82371eff-ec06-410b-a735-643c589d6438"
      },
      "execution_count": 18,
      "outputs": [
        {
          "output_type": "stream",
          "name": "stdout",
          "text": [
            "1250/1250 [==============================] - 3s 3ms/step - loss: 0.6641 - accuracy: 0.5716 - precision_m: 0.5601 - recall_m: 1.0000 - f1score_m: 0.7137\n",
            "Training:\n",
            "Loss: 0.6640837788581848\n",
            "Accuracy: 0.5715804696083069\n",
            "Precision_m: 0.5600994229316711\n",
            "Recall_m: 1.0\n",
            "F1score_m: 0.71368408203125\n",
            "313/313 [==============================] - 1s 3ms/step - loss: 0.6890 - accuracy: 0.5567 - precision_m: 0.5424 - recall_m: 1.0000 - f1score_m: 0.6987\n",
            "Testing:\n",
            "Loss: 0.689048171043396\n",
            "Accuracy: 0.55666184425354\n",
            "Precision_m: 0.542392909526825\n",
            "Recall_m: 1.0\n",
            "F1score_m: 0.6987027525901794\n"
          ]
        }
      ]
    },
    {
      "cell_type": "code",
      "source": [
        "#LSTM"
      ],
      "metadata": {
        "id": "JF3AlQljI516"
      },
      "execution_count": null,
      "outputs": []
    },
    {
      "cell_type": "code",
      "source": [
        "model_lstm_uni = Sequential()\n",
        "model_lstm_uni.add(Embedding(input_dim=len(tokenizer.word_index) + 1, output_dim=100, input_length=max_length, weights=[embedding_matrix], trainable=False))\n",
        "model_lstm_uni.add(LSTM(10))\n",
        "model_lstm_uni.add(Dense(1, activation='sigmoid'))\n",
        "model_lstm_uni.summary()"
      ],
      "metadata": {
        "id": "BnPniVOtGV9O",
        "colab": {
          "base_uri": "https://localhost:8080/"
        },
        "outputId": "2921e848-22c7-44f0-9e14-6a39d3e18d5d"
      },
      "execution_count": 26,
      "outputs": [
        {
          "output_type": "stream",
          "name": "stdout",
          "text": [
            "Model: \"sequential_8\"\n",
            "_________________________________________________________________\n",
            " Layer (type)                Output Shape              Param #   \n",
            "=================================================================\n",
            " embedding_8 (Embedding)     (None, 100, 100)          11239000  \n",
            "                                                                 \n",
            " lstm_2 (LSTM)               (None, 10)                4440      \n",
            "                                                                 \n",
            " dense_14 (Dense)            (None, 1)                 11        \n",
            "                                                                 \n",
            "=================================================================\n",
            "Total params: 11243451 (42.89 MB)\n",
            "Trainable params: 4451 (17.39 KB)\n",
            "Non-trainable params: 11239000 (42.87 MB)\n",
            "_________________________________________________________________\n"
          ]
        }
      ]
    },
    {
      "cell_type": "code",
      "source": [
        "model_lstm_uni.compile(optimizer='adam', loss='binary_crossentropy', metrics=['accuracy', precision_m, recall_m, f1score_m])\n",
        "model_lstm_uni.fit(X_train_pad, y_train, epochs=20, batch_size=32, validation_split=0.1)"
      ],
      "metadata": {
        "id": "4K8tlE1IG9T4",
        "colab": {
          "base_uri": "https://localhost:8080/"
        },
        "outputId": "e643df0b-c28a-4e07-cd1b-bc373566d098"
      },
      "execution_count": 27,
      "outputs": [
        {
          "output_type": "stream",
          "name": "stdout",
          "text": [
            "Epoch 1/20\n",
            "1125/1125 [==============================] - 11s 8ms/step - loss: 0.5357 - accuracy: 0.7213 - precision_m: 0.7331 - recall_m: 0.7237 - f1score_m: 0.7116 - val_loss: 0.4648 - val_accuracy: 0.7810 - val_precision_m: 0.7380 - val_recall_m: 0.8704 - val_f1score_m: 0.7952\n",
            "Epoch 2/20\n",
            "1125/1125 [==============================] - 8s 7ms/step - loss: 0.4335 - accuracy: 0.8008 - precision_m: 0.8064 - recall_m: 0.8003 - f1score_m: 0.7956 - val_loss: 0.4113 - val_accuracy: 0.8138 - val_precision_m: 0.7952 - val_recall_m: 0.8457 - val_f1score_m: 0.8158\n",
            "Epoch 3/20\n",
            "1125/1125 [==============================] - 8s 7ms/step - loss: 0.4022 - accuracy: 0.8145 - precision_m: 0.8186 - recall_m: 0.8138 - f1score_m: 0.8096 - val_loss: 0.4031 - val_accuracy: 0.8158 - val_precision_m: 0.7832 - val_recall_m: 0.8718 - val_f1score_m: 0.8216\n",
            "Epoch 4/20\n",
            "1125/1125 [==============================] - 8s 8ms/step - loss: 0.3863 - accuracy: 0.8245 - precision_m: 0.8289 - recall_m: 0.8241 - f1score_m: 0.8193 - val_loss: 0.4226 - val_accuracy: 0.8050 - val_precision_m: 0.9063 - val_recall_m: 0.6837 - val_f1score_m: 0.7724\n",
            "Epoch 5/20\n",
            "1125/1125 [==============================] - 7s 7ms/step - loss: 0.3693 - accuracy: 0.8341 - precision_m: 0.8364 - recall_m: 0.8340 - f1score_m: 0.8287 - val_loss: 0.3772 - val_accuracy: 0.8320 - val_precision_m: 0.8065 - val_recall_m: 0.8744 - val_f1score_m: 0.8358\n",
            "Epoch 6/20\n",
            "1125/1125 [==============================] - 10s 9ms/step - loss: 0.3572 - accuracy: 0.8397 - precision_m: 0.8422 - recall_m: 0.8398 - f1score_m: 0.8352 - val_loss: 0.3652 - val_accuracy: 0.8420 - val_precision_m: 0.8341 - val_recall_m: 0.8543 - val_f1score_m: 0.8402\n",
            "Epoch 7/20\n",
            "1125/1125 [==============================] - 8s 7ms/step - loss: 0.3467 - accuracy: 0.8471 - precision_m: 0.8505 - recall_m: 0.8458 - f1score_m: 0.8419 - val_loss: 0.3614 - val_accuracy: 0.8445 - val_precision_m: 0.8423 - val_recall_m: 0.8465 - val_f1score_m: 0.8410\n",
            "Epoch 8/20\n",
            "1125/1125 [==============================] - 9s 8ms/step - loss: 0.3394 - accuracy: 0.8486 - precision_m: 0.8512 - recall_m: 0.8495 - f1score_m: 0.8444 - val_loss: 0.3631 - val_accuracy: 0.8355 - val_precision_m: 0.8075 - val_recall_m: 0.8816 - val_f1score_m: 0.8395\n",
            "Epoch 9/20\n",
            "1125/1125 [==============================] - 8s 7ms/step - loss: 0.3304 - accuracy: 0.8538 - precision_m: 0.8570 - recall_m: 0.8528 - f1score_m: 0.8495 - val_loss: 0.3634 - val_accuracy: 0.8385 - val_precision_m: 0.8044 - val_recall_m: 0.8937 - val_f1score_m: 0.8435\n",
            "Epoch 10/20\n",
            "1125/1125 [==============================] - 8s 7ms/step - loss: 0.3224 - accuracy: 0.8583 - precision_m: 0.8606 - recall_m: 0.8573 - f1score_m: 0.8541 - val_loss: 0.3457 - val_accuracy: 0.8487 - val_precision_m: 0.8453 - val_recall_m: 0.8526 - val_f1score_m: 0.8457\n",
            "Epoch 11/20\n",
            "1125/1125 [==============================] - 8s 7ms/step - loss: 0.3176 - accuracy: 0.8617 - precision_m: 0.8638 - recall_m: 0.8637 - f1score_m: 0.8583 - val_loss: 0.3485 - val_accuracy: 0.8485 - val_precision_m: 0.8421 - val_recall_m: 0.8548 - val_f1score_m: 0.8451\n",
            "Epoch 12/20\n",
            "1125/1125 [==============================] - 8s 7ms/step - loss: 0.3115 - accuracy: 0.8653 - precision_m: 0.8672 - recall_m: 0.8645 - f1score_m: 0.8608 - val_loss: 0.3490 - val_accuracy: 0.8485 - val_precision_m: 0.8847 - val_recall_m: 0.8027 - val_f1score_m: 0.8371\n",
            "Epoch 13/20\n",
            "1125/1125 [==============================] - 8s 7ms/step - loss: 0.3063 - accuracy: 0.8671 - precision_m: 0.8681 - recall_m: 0.8686 - f1score_m: 0.8639 - val_loss: 0.3431 - val_accuracy: 0.8460 - val_precision_m: 0.8439 - val_recall_m: 0.8478 - val_f1score_m: 0.8427\n",
            "Epoch 14/20\n",
            "1125/1125 [==============================] - 7s 7ms/step - loss: 0.3021 - accuracy: 0.8690 - precision_m: 0.8705 - recall_m: 0.8698 - f1score_m: 0.8653 - val_loss: 0.3462 - val_accuracy: 0.8482 - val_precision_m: 0.8316 - val_recall_m: 0.8721 - val_f1score_m: 0.8483\n",
            "Epoch 15/20\n",
            "1125/1125 [==============================] - 9s 8ms/step - loss: 0.2983 - accuracy: 0.8693 - precision_m: 0.8719 - recall_m: 0.8698 - f1score_m: 0.8657 - val_loss: 0.3415 - val_accuracy: 0.8495 - val_precision_m: 0.8673 - val_recall_m: 0.8253 - val_f1score_m: 0.8417\n",
            "Epoch 16/20\n",
            "1125/1125 [==============================] - 7s 6ms/step - loss: 0.2941 - accuracy: 0.8729 - precision_m: 0.8746 - recall_m: 0.8738 - f1score_m: 0.8694 - val_loss: 0.3473 - val_accuracy: 0.8525 - val_precision_m: 0.8837 - val_recall_m: 0.8104 - val_f1score_m: 0.8418\n",
            "Epoch 17/20\n",
            "1125/1125 [==============================] - 9s 8ms/step - loss: 0.2923 - accuracy: 0.8716 - precision_m: 0.8738 - recall_m: 0.8729 - f1score_m: 0.8681 - val_loss: 0.3447 - val_accuracy: 0.8535 - val_precision_m: 0.8829 - val_recall_m: 0.8128 - val_f1score_m: 0.8428\n",
            "Epoch 18/20\n",
            "1125/1125 [==============================] - 7s 6ms/step - loss: 0.2858 - accuracy: 0.8756 - precision_m: 0.8773 - recall_m: 0.8749 - f1score_m: 0.8719 - val_loss: 0.3442 - val_accuracy: 0.8543 - val_precision_m: 0.8527 - val_recall_m: 0.8555 - val_f1score_m: 0.8507\n",
            "Epoch 19/20\n",
            "1125/1125 [==============================] - 9s 8ms/step - loss: 0.2847 - accuracy: 0.8758 - precision_m: 0.8780 - recall_m: 0.8758 - f1score_m: 0.8725 - val_loss: 0.3438 - val_accuracy: 0.8500 - val_precision_m: 0.8319 - val_recall_m: 0.8762 - val_f1score_m: 0.8503\n",
            "Epoch 20/20\n",
            "1125/1125 [==============================] - 8s 7ms/step - loss: 0.2821 - accuracy: 0.8802 - precision_m: 0.8816 - recall_m: 0.8809 - f1score_m: 0.8766 - val_loss: 0.3415 - val_accuracy: 0.8515 - val_precision_m: 0.8787 - val_recall_m: 0.8141 - val_f1score_m: 0.8411\n"
          ]
        },
        {
          "output_type": "execute_result",
          "data": {
            "text/plain": [
              "<keras.src.callbacks.History at 0x7b0a095022c0>"
            ]
          },
          "metadata": {},
          "execution_count": 27
        }
      ]
    },
    {
      "cell_type": "code",
      "source": [
        "lstm_uni_evaluation = model_lstm_uni.evaluate(X_train_pad, y_train)\n",
        "print(\"Training\")\n",
        "metric_names = model_lstm_uni.metrics_names\n",
        "for metric_name, metric_value in zip(metric_names, lstm_uni_evaluation):\n",
        "    print(f\"{metric_name.capitalize()}: {metric_value}\")\n",
        "\n",
        "lstm_uni_evaluation = model_lstm_uni.evaluate(X_test_pad, y_test)\n",
        "print(\"Testing\")\n",
        "metric_names = model_lstm_uni.metrics_names\n",
        "for metric_name, metric_value in zip(metric_names, lstm_uni_evaluation):\n",
        "    print(f\"{metric_name.capitalize()}: {metric_value}\")"
      ],
      "metadata": {
        "id": "bfiONHM8HARt",
        "colab": {
          "base_uri": "https://localhost:8080/"
        },
        "outputId": "38de2420-a6d3-404c-a046-d7017aea5942"
      },
      "execution_count": 28,
      "outputs": [
        {
          "output_type": "stream",
          "name": "stdout",
          "text": [
            "1250/1250 [==============================] - 6s 4ms/step - loss: 0.2796 - accuracy: 0.8797 - precision_m: 0.9063 - recall_m: 0.8479 - f1score_m: 0.8724\n",
            "Training\n",
            "Loss: 0.27956387400627136\n",
            "Accuracy: 0.8796749711036682\n",
            "Precision_m: 0.9063313603401184\n",
            "Recall_m: 0.8479496240615845\n",
            "F1score_m: 0.8724069595336914\n",
            "313/313 [==============================] - 3s 7ms/step - loss: 0.3519 - accuracy: 0.8411 - precision_m: 0.8603 - recall_m: 0.8114 - f1score_m: 0.8304\n",
            "Testing\n",
            "Loss: 0.35185399651527405\n",
            "Accuracy: 0.8410999774932861\n",
            "Precision_m: 0.8602898716926575\n",
            "Recall_m: 0.811411440372467\n",
            "F1score_m: 0.8303547501564026\n"
          ]
        }
      ]
    },
    {
      "cell_type": "code",
      "source": [
        "#Bidirectional\n",
        "model_lstm_bi = Sequential()\n",
        "model_lstm_bi.add(Embedding(input_dim=len(tokenizer.word_index) + 1, output_dim=100, input_length=max_length, weights=[embedding_matrix], trainable=False))\n",
        "model_lstm_bi.add(Bidirectional(LSTM(10)))\n",
        "model_lstm_bi.add(Dense(1, activation='sigmoid'))\n",
        "model_lstm_bi.summary()"
      ],
      "metadata": {
        "id": "dKMfmXajHe5w",
        "colab": {
          "base_uri": "https://localhost:8080/"
        },
        "outputId": "92a62607-3cbf-4dd2-c88e-ac49266188be"
      },
      "execution_count": 22,
      "outputs": [
        {
          "output_type": "stream",
          "name": "stdout",
          "text": [
            "Model: \"sequential_7\"\n",
            "_________________________________________________________________\n",
            " Layer (type)                Output Shape              Param #   \n",
            "=================================================================\n",
            " embedding_7 (Embedding)     (None, 100, 100)          11239000  \n",
            "                                                                 \n",
            " bidirectional (Bidirection  (None, 20)                8880      \n",
            " al)                                                             \n",
            "                                                                 \n",
            " dense_13 (Dense)            (None, 1)                 21        \n",
            "                                                                 \n",
            "=================================================================\n",
            "Total params: 11247901 (42.91 MB)\n",
            "Trainable params: 8901 (34.77 KB)\n",
            "Non-trainable params: 11239000 (42.87 MB)\n",
            "_________________________________________________________________\n"
          ]
        }
      ]
    },
    {
      "cell_type": "code",
      "source": [
        "model_lstm_bi.compile(optimizer='adam', loss='binary_crossentropy', metrics=['accuracy',precision_m, recall_m, f1score_m])\n",
        "model_lstm_bi.fit(X_train_pad, y_train, epochs=20, batch_size=32, validation_split=0.1)"
      ],
      "metadata": {
        "id": "dSu9fSL3IJpj",
        "colab": {
          "base_uri": "https://localhost:8080/"
        },
        "outputId": "de1c2e16-9465-406f-df79-38ef8f93f297"
      },
      "execution_count": 23,
      "outputs": [
        {
          "output_type": "stream",
          "name": "stdout",
          "text": [
            "Epoch 1/20\n",
            "1125/1125 [==============================] - 16s 12ms/step - loss: 0.5323 - accuracy: 0.7262 - precision_m: 0.7406 - recall_m: 0.7146 - f1score_m: 0.7107 - val_loss: 0.4384 - val_accuracy: 0.8012 - val_precision_m: 0.7923 - val_recall_m: 0.8186 - val_f1score_m: 0.8007\n",
            "Epoch 2/20\n",
            "1125/1125 [==============================] - 12s 11ms/step - loss: 0.4255 - accuracy: 0.8043 - precision_m: 0.8083 - recall_m: 0.8064 - f1score_m: 0.7999 - val_loss: 0.3954 - val_accuracy: 0.8232 - val_precision_m: 0.8215 - val_recall_m: 0.8262 - val_f1score_m: 0.8203\n",
            "Epoch 3/20\n",
            "1125/1125 [==============================] - 12s 11ms/step - loss: 0.3879 - accuracy: 0.8251 - precision_m: 0.8276 - recall_m: 0.8280 - f1score_m: 0.8214 - val_loss: 0.3806 - val_accuracy: 0.8330 - val_precision_m: 0.8582 - val_recall_m: 0.7978 - val_f1score_m: 0.8230\n",
            "Epoch 4/20\n",
            "1125/1125 [==============================] - 13s 11ms/step - loss: 0.3625 - accuracy: 0.8379 - precision_m: 0.8383 - recall_m: 0.8407 - f1score_m: 0.8335 - val_loss: 0.3579 - val_accuracy: 0.8418 - val_precision_m: 0.8564 - val_recall_m: 0.8211 - val_f1score_m: 0.8348\n",
            "Epoch 5/20\n",
            "1125/1125 [==============================] - 12s 11ms/step - loss: 0.3423 - accuracy: 0.8473 - precision_m: 0.8480 - recall_m: 0.8484 - f1score_m: 0.8430 - val_loss: 0.3566 - val_accuracy: 0.8390 - val_precision_m: 0.8128 - val_recall_m: 0.8811 - val_f1score_m: 0.8421\n",
            "Epoch 6/20\n",
            "1125/1125 [==============================] - 12s 10ms/step - loss: 0.3300 - accuracy: 0.8536 - precision_m: 0.8539 - recall_m: 0.8562 - f1score_m: 0.8500 - val_loss: 0.3453 - val_accuracy: 0.8443 - val_precision_m: 0.8281 - val_recall_m: 0.8713 - val_f1score_m: 0.8454\n",
            "Epoch 7/20\n",
            "1125/1125 [==============================] - 12s 11ms/step - loss: 0.3173 - accuracy: 0.8589 - precision_m: 0.8605 - recall_m: 0.8611 - f1score_m: 0.8556 - val_loss: 0.3606 - val_accuracy: 0.8400 - val_precision_m: 0.9058 - val_recall_m: 0.7616 - val_f1score_m: 0.8230\n",
            "Epoch 8/20\n",
            "1125/1125 [==============================] - 12s 11ms/step - loss: 0.3072 - accuracy: 0.8657 - precision_m: 0.8661 - recall_m: 0.8695 - f1score_m: 0.8631 - val_loss: 0.3354 - val_accuracy: 0.8457 - val_precision_m: 0.8557 - val_recall_m: 0.8326 - val_f1score_m: 0.8402\n",
            "Epoch 9/20\n",
            "1125/1125 [==============================] - 12s 11ms/step - loss: 0.2985 - accuracy: 0.8709 - precision_m: 0.8727 - recall_m: 0.8718 - f1score_m: 0.8675 - val_loss: 0.3630 - val_accuracy: 0.8388 - val_precision_m: 0.7961 - val_recall_m: 0.9133 - val_f1score_m: 0.8473\n",
            "Epoch 10/20\n",
            "1125/1125 [==============================] - 13s 11ms/step - loss: 0.2896 - accuracy: 0.8761 - precision_m: 0.8775 - recall_m: 0.8767 - f1score_m: 0.8726 - val_loss: 0.3359 - val_accuracy: 0.8528 - val_precision_m: 0.8656 - val_recall_m: 0.8362 - val_f1score_m: 0.8465\n",
            "Epoch 11/20\n",
            "1125/1125 [==============================] - 12s 11ms/step - loss: 0.2813 - accuracy: 0.8797 - precision_m: 0.8802 - recall_m: 0.8809 - f1score_m: 0.8761 - val_loss: 0.3282 - val_accuracy: 0.8568 - val_precision_m: 0.8740 - val_recall_m: 0.8367 - val_f1score_m: 0.8513\n",
            "Epoch 12/20\n",
            "1125/1125 [==============================] - 11s 10ms/step - loss: 0.2742 - accuracy: 0.8836 - precision_m: 0.8839 - recall_m: 0.8857 - f1score_m: 0.8805 - val_loss: 0.3301 - val_accuracy: 0.8537 - val_precision_m: 0.8614 - val_recall_m: 0.8442 - val_f1score_m: 0.8489\n",
            "Epoch 13/20\n",
            "1125/1125 [==============================] - 12s 11ms/step - loss: 0.2668 - accuracy: 0.8871 - precision_m: 0.8870 - recall_m: 0.8879 - f1score_m: 0.8839 - val_loss: 0.3302 - val_accuracy: 0.8590 - val_precision_m: 0.8693 - val_recall_m: 0.8472 - val_f1score_m: 0.8544\n",
            "Epoch 14/20\n",
            "1125/1125 [==============================] - 12s 11ms/step - loss: 0.2625 - accuracy: 0.8893 - precision_m: 0.8898 - recall_m: 0.8894 - f1score_m: 0.8857 - val_loss: 0.3371 - val_accuracy: 0.8515 - val_precision_m: 0.8753 - val_recall_m: 0.8226 - val_f1score_m: 0.8436\n",
            "Epoch 15/20\n",
            "1125/1125 [==============================] - 12s 11ms/step - loss: 0.2556 - accuracy: 0.8925 - precision_m: 0.8941 - recall_m: 0.8938 - f1score_m: 0.8901 - val_loss: 0.3306 - val_accuracy: 0.8547 - val_precision_m: 0.8702 - val_recall_m: 0.8357 - val_f1score_m: 0.8485\n",
            "Epoch 16/20\n",
            "1125/1125 [==============================] - 12s 11ms/step - loss: 0.2511 - accuracy: 0.8948 - precision_m: 0.8967 - recall_m: 0.8951 - f1score_m: 0.8918 - val_loss: 0.3309 - val_accuracy: 0.8608 - val_precision_m: 0.8526 - val_recall_m: 0.8750 - val_f1score_m: 0.8598\n",
            "Epoch 17/20\n",
            "1125/1125 [==============================] - 12s 10ms/step - loss: 0.2448 - accuracy: 0.8965 - precision_m: 0.8984 - recall_m: 0.8956 - f1score_m: 0.8932 - val_loss: 0.4028 - val_accuracy: 0.8307 - val_precision_m: 0.7710 - val_recall_m: 0.9437 - val_f1score_m: 0.8456\n",
            "Epoch 18/20\n",
            "1125/1125 [==============================] - 12s 10ms/step - loss: 0.2392 - accuracy: 0.8991 - precision_m: 0.8990 - recall_m: 0.8999 - f1score_m: 0.8958 - val_loss: 0.3423 - val_accuracy: 0.8597 - val_precision_m: 0.8818 - val_recall_m: 0.8360 - val_f1score_m: 0.8538\n",
            "Epoch 19/20\n",
            "1125/1125 [==============================] - 12s 11ms/step - loss: 0.2350 - accuracy: 0.9028 - precision_m: 0.9057 - recall_m: 0.9015 - f1score_m: 0.9000 - val_loss: 0.3392 - val_accuracy: 0.8572 - val_precision_m: 0.8503 - val_recall_m: 0.8711 - val_f1score_m: 0.8570\n",
            "Epoch 20/20\n",
            "1125/1125 [==============================] - 12s 11ms/step - loss: 0.2294 - accuracy: 0.9046 - precision_m: 0.9057 - recall_m: 0.9048 - f1score_m: 0.9018 - val_loss: 0.3387 - val_accuracy: 0.8587 - val_precision_m: 0.8711 - val_recall_m: 0.8465 - val_f1score_m: 0.8546\n"
          ]
        },
        {
          "output_type": "execute_result",
          "data": {
            "text/plain": [
              "<keras.src.callbacks.History at 0x7b0a822f2dd0>"
            ]
          },
          "metadata": {},
          "execution_count": 23
        }
      ]
    },
    {
      "cell_type": "markdown",
      "source": [],
      "metadata": {
        "id": "OHQt_wOUTEJQ"
      }
    },
    {
      "cell_type": "code",
      "source": [
        "lstm_bi_evaluation = model_lstm_bi.evaluate(X_train_pad, y_train)\n",
        "print(\"Traning\")\n",
        "metric_names = model_lstm_bi.metrics_names\n",
        "for metric_name, metric_value in zip(metric_names, lstm_bi_evaluation):\n",
        "    print(f\"{metric_name.capitalize()}: {metric_value}\")\n",
        "\n",
        "lstm_bi_evaluation = model_lstm_bi.evaluate(X_test_pad, y_test)\n",
        "print(\"Testing\")\n",
        "metric_names = model_lstm_bi.metrics_names\n",
        "for metric_name, metric_value in zip(metric_names, lstm_bi_evaluation):\n",
        "    print(f\"{metric_name.capitalize()}: {metric_value}\")"
      ],
      "metadata": {
        "id": "DQBrWnAqIKfQ",
        "colab": {
          "base_uri": "https://localhost:8080/"
        },
        "outputId": "8929cc54-6e0a-45a6-dce1-d0637b6e0899"
      },
      "execution_count": 24,
      "outputs": [
        {
          "output_type": "stream",
          "name": "stdout",
          "text": [
            "1250/1250 [==============================] - 8s 6ms/step - loss: 0.2228 - accuracy: 0.9099 - precision_m: 0.9173 - recall_m: 0.9016 - f1score_m: 0.9068\n",
            "Traning\n",
            "Loss: 0.22280535101890564\n",
            "Accuracy: 0.909850001335144\n",
            "Precision_m: 0.9172869920730591\n",
            "Recall_m: 0.9016001224517822\n",
            "F1score_m: 0.9068063497543335\n",
            "313/313 [==============================] - 2s 5ms/step - loss: 0.3634 - accuracy: 0.8474 - precision_m: 0.8485 - recall_m: 0.8398 - f1score_m: 0.8399\n",
            "Testing\n",
            "Loss: 0.36337852478027344\n",
            "Accuracy: 0.8474000096321106\n",
            "Precision_m: 0.8484530448913574\n",
            "Recall_m: 0.8397620320320129\n",
            "F1score_m: 0.8398622870445251\n"
          ]
        }
      ]
    },
    {
      "cell_type": "code",
      "source": [
        "#Comparison"
      ],
      "metadata": {
        "id": "1TIU-aibkrBL"
      },
      "execution_count": null,
      "outputs": []
    },
    {
      "cell_type": "code",
      "source": [
        "models = ['Shallow', 'LSTM_UNI', 'LSTM_BI']\n",
        "accuracy = [shallow_evaluation[1], lstm_uni_evaluation[1], lstm_bi_evaluation[1]]\n",
        "precision = [shallow_evaluation[2], lstm_uni_evaluation[2], lstm_bi_evaluation[2]]\n",
        "recall = [shallow_evaluation[3], lstm_uni_evaluation[3], lstm_bi_evaluation[3]]\n",
        "f1_score = [shallow_evaluation[4], lstm_uni_evaluation[4], lstm_bi_evaluation[4]]\n",
        "\n",
        "metrics = ['Accuracy', 'Precision', 'Recall', 'F1-Score']\n",
        "metric_values = [accuracy, precision, recall, f1_score]\n",
        "\n",
        "for i, metric in enumerate(metrics):\n",
        "    plt.figure(figsize=(8, 6))\n",
        "    bars = plt.bar(models, metric_values[i], color=['blue', 'orange', 'green'])\n",
        "\n",
        "\n",
        "    for bar, value in zip(bars, metric_values[i]):\n",
        "        plt.text(bar.get_x() + bar.get_width() / 2, bar.get_height() - 0.02, f'{value:.4f}', ha='center', va='top', color='white')\n",
        "\n",
        "    plt.xlabel('Models')\n",
        "    plt.ylabel(metric)\n",
        "    plt.title(f'{metric} Comparison among Models')\n",
        "    plt.show()"
      ],
      "metadata": {
        "id": "CGMhY72UktWt",
        "colab": {
          "base_uri": "https://localhost:8080/",
          "height": 1000
        },
        "outputId": "c25ee0f4-0e5e-471b-81ff-25bff5c1281b"
      },
      "execution_count": 29,
      "outputs": [
        {
          "output_type": "display_data",
          "data": {
            "text/plain": [
              "<Figure size 800x600 with 1 Axes>"
            ],
            "image/png": "[encoded data removed]"
          },
          "metadata": {}
        },
        {
          "output_type": "display_data",
          "data": {
            "text/plain": [
              "<Figure size 800x600 with 1 Axes>"
            ],
            "image/png": "[encoded data removed]"
          },
          "metadata": {}
        },
        {
          "output_type": "display_data",
          "data": {
            "text/plain": [
              "<Figure size 800x600 with 1 Axes>"
            ],
            "image/png": "[encoded data removed]"
          },
          "metadata": {}
        },
        {
          "output_type": "display_data",
          "data": {
            "text/plain": [
              "<Figure size 800x600 with 1 Axes>"
            ],
            "image/png": "[encoded data removed]"
          },
          "metadata": {}
        }
      ]
    },
    {
      "cell_type": "code",
      "source": [],
      "metadata": {
        "id": "yJwVCx69nIrU"
      },
      "execution_count": null,
      "outputs": []
    }
  ]
}